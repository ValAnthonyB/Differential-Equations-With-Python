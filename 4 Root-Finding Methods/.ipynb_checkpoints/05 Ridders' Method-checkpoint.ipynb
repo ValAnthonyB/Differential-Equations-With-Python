{
 "cells": [
  {
   "cell_type": "code",
   "execution_count": 1,
   "id": "91cb6ca3",
   "metadata": {},
   "outputs": [],
   "source": [
    "%matplotlib notebook\n",
    "\n",
    "import numpy as np\n",
    "import matplotlib.pyplot as plt"
   ]
  },
  {
   "cell_type": "markdown",
   "id": "bb8cb11c",
   "metadata": {},
   "source": [
    "# Ridders' Method\n",
    "\n",
    "This method is a modern method which was introduced in 1979. Ridders' method is a bracketing method. We multiply $f(x)$ by an exponential:\n",
    "\\\n",
    "\\\n",
    "$$R(x) = f(x) e^{Qx}$$\n",
    "\\\n",
    "\\\n",
    "which turns the $R(x)$ into a straight line regardless of the shape of $f(x)$.\n",
    "\\\n",
    "\\\n",
    "$$R(x) = c_0 + c_1 x$$\n",
    "\\\n",
    "\\\n",
    "We will then have to determine $c_0, c_1, Q$. Suppose we have an initial bracket $(x_0, x_1)$. Its midpoint is $x_2 = (x_0 + x_1)/2$. Since $R(x)$ is a straight line, then\n",
    "\\\n",
    "\\\n",
    "$$R_2 = \\frac{R_0 + R_1}{2}$$\n",
    "\\\n",
    "\\\n",
    "where we used the notation $R_i \\equiv R(x_i)$. We define\n",
    "\\\n",
    "\\\n",
    "$$d = x_2 - x_0 = x_1 - x_2 \\tag{length between the midpoint and the edge points}$$\n",
    "\\\n",
    "\\\n",
    "We then produce\n",
    "\\\n",
    "\\\n",
    "\\begin{align}\n",
    "2 R(x_2) &= R(x_0) + R(x_1)\\\\\n",
    "f_0 e^{Qx_0} + f_1 e^{Qx_1} - 2f_2 e^{Qx_2} &= 0\n",
    "\\end{align}\n",
    "\\\n",
    "\\\n",
    "We factor out $e^{Qx_0}$,\n",
    "\\\n",
    "\\\n",
    "$$f_1 e^{2Qd} - 2f_2 e^{Qd} + f_0 = 0.$$\n",
    "\\\n",
    "\\\n",
    "The result is a quadratic equation. So according to the quadratic formula\n",
    "\\\n",
    "\\\n",
    "$$e^{Qd} = \\frac{f_2 - \\text{sign}(f_0) \\sqrt{f_2^2 - f_0 f_1}}{f_1}$$\n",
    "\\\n",
    "\\\n",
    "Since $f_0 f_1 < 0$ is readily assumed, hence $f_2^2 - f_0 f_1 > 0$. We have found $Q$ because we readily know the values for $d, f_0, f_1, f_2$. Since $R(x)$ is a straight line, then we can find an $x-$axis intercept $x_3$. The point is the $x-$axis intercept of the line that goes through $(x_1, R_1)$ and $(x_2, R_2)$. It also goes through $(x_0, R_0)$. From the secant method:\n",
    "\\\n",
    "\\\n",
    "\\begin{align}\n",
    "    x_3 &= x_2 - R_2 \\frac{x_2 - x_1}{R_2 - R_1}\\\\\n",
    "        &= x_2 - \\frac{d}{\\frac{R_1}{R_2} - 1}\\\\\n",
    "        &= x_2 - \\frac{d}{\\frac{f_1}{f_2}e^{Q(x_1 - x_2)} - 1}\\\\\n",
    "    x_3 &= x_2 + \\text{sign}(f_0) \\frac{f_2 d}{\\sqrt{f_2^2 - f_0 f_1}} \n",
    "\\end{align}\n",
    "\\\n",
    "\\\n",
    "We re-express this without the sign function\n",
    "\\\n",
    "\\\n",
    "$$x_3 = x_2 + (x_1 - x_2) \\frac{\\frac{f_2}{f_0}}{\\sqrt{(\\frac{f_2}{f_0})^2 - \\frac{f_1}{f_0}}} \\tag{Main equation}$$"
   ]
  },
  {
   "cell_type": "code",
   "execution_count": 2,
   "id": "10104b60",
   "metadata": {},
   "outputs": [],
   "source": [
    "def riddlers_method(f, x0, x1, kmax=int(1e6), tol=1.e-12):\n",
    "    '''Provides the approximate root using Riddlers' method.\n",
    "    \n",
    "    Parameters\n",
    "    -----------\n",
    "        f: function\n",
    "                Function that we want to find the root.\n",
    "                \n",
    "        x0: number\n",
    "                First endpoint of the bracketed root.\n",
    "                \n",
    "        x1: number\n",
    "                Last endpoint of the bracketed root.\n",
    "                \n",
    "        kmax: integer\n",
    "                Maximum iterations.\n",
    "        \n",
    "        tol: integer\n",
    "                stopping criteria\n",
    "        \n",
    "        \n",
    "    Returns\n",
    "    --------\n",
    "        x: number\n",
    "            root\n",
    "    \n",
    "    '''\n",
    "    \n",
    "    for k in range(1, kmax):\n",
    "        # Find the midpoint\n",
    "        x2 = (x0 + x1) / 2\n",
    "        \n",
    "        # Riddlers' method\n",
    "        x3 = x2 + (x1 - x2)* (f(x2) / f(x0)) / np.sqrt((f(x2) / f(x0))**2 - (f(x1) / f(x0)) )\n",
    "        \n",
    "        \n",
    "        # Stopping criteria\n",
    "        if np.abs((x3 - x2) / x3) < tol:\n",
    "            break\n",
    "            \n",
    "        else:\n",
    "            # Change the bracket (x0, x1)_{k+1} = (x2, x3)_{k}\n",
    "            x0 = x2 \n",
    "            x1 = x3\n",
    "            \n",
    "    print(\"Solution found after\", k, \"iterations.\")\n",
    "    return x3"
   ]
  },
  {
   "cell_type": "markdown",
   "id": "930ece5d",
   "metadata": {},
   "source": [
    "# Sanity Check"
   ]
  },
  {
   "cell_type": "code",
   "execution_count": 3,
   "id": "8a41d75b",
   "metadata": {},
   "outputs": [
    {
     "name": "stdout",
     "output_type": "stream",
     "text": [
      "Solution found after 39 iterations.\n",
      "1.0\n"
     ]
    }
   ],
   "source": [
    "f = lambda x: np.exp(x - np.sqrt(x)) - x\n",
    "\n",
    "root = riddlers_method(f, 0, 1.5)\n",
    "print(root)"
   ]
  },
  {
   "cell_type": "code",
   "execution_count": 4,
   "id": "a5027830",
   "metadata": {},
   "outputs": [
    {
     "name": "stdout",
     "output_type": "stream",
     "text": [
      "Solution found after 35 iterations.\n",
      "1.5213797068045676\n"
     ]
    }
   ],
   "source": [
    "f = lambda x: x**3 - x - 2\n",
    "\n",
    "root = riddlers_method(f, 1, 2)\n",
    "print(root)"
   ]
  },
  {
   "cell_type": "code",
   "execution_count": null,
   "id": "4e76b5c6",
   "metadata": {},
   "outputs": [],
   "source": []
  }
 ],
 "metadata": {
  "kernelspec": {
   "display_name": "Python 3",
   "language": "python",
   "name": "python3"
  },
  "language_info": {
   "codemirror_mode": {
    "name": "ipython",
    "version": 3
   },
   "file_extension": ".py",
   "mimetype": "text/x-python",
   "name": "python",
   "nbconvert_exporter": "python",
   "pygments_lexer": "ipython3",
   "version": "3.8.11"
  }
 },
 "nbformat": 4,
 "nbformat_minor": 5
}
