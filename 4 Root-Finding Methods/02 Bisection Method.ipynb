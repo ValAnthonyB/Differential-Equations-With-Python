{
 "cells": [
  {
   "cell_type": "code",
   "execution_count": 1,
   "id": "94747a74",
   "metadata": {},
   "outputs": [],
   "source": [
    "%matplotlib notebook\n",
    "\n",
    "import numpy as np\n",
    "import matplotlib.pyplot as plt"
   ]
  },
  {
   "cell_type": "markdown",
   "id": "f9b8641f",
   "metadata": {},
   "source": [
    "# Bisection method\n",
    "\n",
    "The bisection method applies to any continuous functions. It works as follows:\n",
    "1. Take an interval $(x_0, x_1)$, for which we know that $f(x_0) * f(x_1) < 0$ (if $f(x_0)$ and $f(x_1)$ have opposite signs Bolzano's theorem says that the interval contains a root $x^*$), and evaluate the midpoint\n",
    "\\\n",
    "\\\n",
    "\\begin{equation}\n",
    "    x_2 = \\frac{x_0 + x_1}{2}\n",
    "\\end{equation}\n",
    "\\\n",
    "\\\n",
    "2. This produces two subintervals $(x_0, x_2)$ and $(x_2, x_1)$. The sign of $f(x_2)$ determines which of the two subintervals $x^*$ lies. \n",
    "3. If $f(x_0) * f(x_2) < 0$ (negative sign), then we rename $x_1 \\leftarrow x_2$ and repeat the entire process.\n",
    "4. If $f(x_0) * f(x_2) < 0$ (positive sign), then the root is in $(x_2, x_1)$. Thus, we can rename $x_0 \\leftarrow x_2$ and repeat the process."
   ]
  },
  {
   "cell_type": "code",
   "execution_count": 2,
   "id": "00308da7",
   "metadata": {},
   "outputs": [],
   "source": [
    "def bisection(f, x0, x1, kmax=100000, tol=1.e-12):\n",
    "    '''\n",
    "    Parameters\n",
    "        f - function\n",
    "        x0 - lower bound; float\n",
    "        x1 - upper bound; float\n",
    "        \n",
    "    Returns\n",
    "        x2 - root\n",
    "    \n",
    "    '''\n",
    "    f0 = f(x0)\n",
    "    \n",
    "    for k in range(0,kmax):\n",
    "        # Set the midpoint\n",
    "        x2 = (x0 + x1) / 2\n",
    "        \n",
    "        # Evaluate f(x_2)\n",
    "        f2 = f(x2)\n",
    "        \n",
    "        # If f0 * f2 is negative then the root exists at (x0, x2)\n",
    "        if f0 * f2 < 0:\n",
    "            x1 = x2\n",
    "            \n",
    "        # If f0 * f2 is positive then the root exists at (x2, x1). We search there.\n",
    "        else:\n",
    "            x0 = x2\n",
    "            f0 = f2 # Since we are searching at (x2, x1), the lower bound must be f2\n",
    "            \n",
    "            \n",
    "        # Stopping criteria\n",
    "        x2new = (x0 + x1) / 2 # check if the next x2new is almost equal to x2. If not do not proceed, the loop repeats\n",
    "        if np.abs((x2new - x2) / x2new) < tol:\n",
    "            # If condition is satisfied, then x2 is x*\n",
    "            print(k)\n",
    "            break\n",
    "            \n",
    "    return x2new"
   ]
  },
  {
   "cell_type": "code",
   "execution_count": 3,
   "id": "c7f256a9",
   "metadata": {},
   "outputs": [
    {
     "name": "stdout",
     "output_type": "stream",
     "text": [
      "39\n",
      "0.9999999999997726\n"
     ]
    }
   ],
   "source": [
    "f = lambda x: np.exp(x - np.sqrt(x)) - x\n",
    "\n",
    "root = bisection(f,0,1.5)\n",
    "print(root)"
   ]
  },
  {
   "cell_type": "code",
   "execution_count": 4,
   "id": "83c11138",
   "metadata": {},
   "outputs": [
    {
     "name": "stdout",
     "output_type": "stream",
     "text": [
      "38\n",
      "1.5213797068054191\n"
     ]
    }
   ],
   "source": [
    "f = lambda x: x**3 - x - 2\n",
    "\n",
    "root = bisection(f, 1, 2)\n",
    "print(root)"
   ]
  }
 ],
 "metadata": {
  "kernelspec": {
   "display_name": "Python 3",
   "language": "python",
   "name": "python3"
  },
  "language_info": {
   "codemirror_mode": {
    "name": "ipython",
    "version": 3
   },
   "file_extension": ".py",
   "mimetype": "text/x-python",
   "name": "python",
   "nbconvert_exporter": "python",
   "pygments_lexer": "ipython3",
   "version": "3.8.11"
  }
 },
 "nbformat": 4,
 "nbformat_minor": 5
}
