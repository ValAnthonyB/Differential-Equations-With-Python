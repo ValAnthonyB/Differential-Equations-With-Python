{
 "cells": [
  {
   "cell_type": "code",
   "execution_count": 4,
   "id": "51d8ee63",
   "metadata": {},
   "outputs": [],
   "source": [
    "# Import rk4 py file\n",
    "import sys \n",
    "sys.path.insert(0, 'Codes/')\n",
    "from secant import secant\n",
    "from ivp_two import fs, rk4_gen\n",
    "import numpy as np"
   ]
  },
  {
   "cell_type": "code",
   "execution_count": 6,
   "id": "e50af89b",
   "metadata": {},
   "outputs": [
    {
     "name": "stdout",
     "output_type": "stream",
     "text": [
      " 1 1.8096210699240751 0.8096210699240751 0.0000000000000001\n",
      " 2 1.8096210699240738 0.0000000000000013 0.0000000000000001\n"
     ]
    }
   ],
   "source": [
    "def shoot(sig):\n",
    "    a, b, n = 0.05, 0.49, 100\n",
    "    yinits = np.array([0.0926587109375, sig])\n",
    "    \n",
    "    xs, ys = rk4_gen(fs, a, b, n, yinits)\n",
    "    \n",
    "    wfinal = 0.11177050858750004\n",
    "    return ys[-1, 0] - wfinal\n",
    "\n",
    "wder = secant(shoot, 0, 1)"
   ]
  },
  {
   "cell_type": "code",
   "execution_count": null,
   "id": "4c6e52b8",
   "metadata": {},
   "outputs": [],
   "source": []
  },
  {
   "cell_type": "code",
   "execution_count": null,
   "id": "8a852a9d",
   "metadata": {},
   "outputs": [],
   "source": []
  },
  {
   "cell_type": "code",
   "execution_count": null,
   "id": "90a99ab4",
   "metadata": {},
   "outputs": [],
   "source": []
  },
  {
   "cell_type": "code",
   "execution_count": null,
   "id": "cf963f51",
   "metadata": {},
   "outputs": [],
   "source": []
  },
  {
   "cell_type": "code",
   "execution_count": null,
   "id": "7ad3411d",
   "metadata": {},
   "outputs": [],
   "source": []
  },
  {
   "cell_type": "code",
   "execution_count": null,
   "id": "46a56ff2",
   "metadata": {},
   "outputs": [],
   "source": []
  }
 ],
 "metadata": {
  "kernelspec": {
   "display_name": "Python 3",
   "language": "python",
   "name": "python3"
  },
  "language_info": {
   "codemirror_mode": {
    "name": "ipython",
    "version": 3
   },
   "file_extension": ".py",
   "mimetype": "text/x-python",
   "name": "python",
   "nbconvert_exporter": "python",
   "pygments_lexer": "ipython3",
   "version": "3.8.11"
  }
 },
 "nbformat": 4,
 "nbformat_minor": 5
}
