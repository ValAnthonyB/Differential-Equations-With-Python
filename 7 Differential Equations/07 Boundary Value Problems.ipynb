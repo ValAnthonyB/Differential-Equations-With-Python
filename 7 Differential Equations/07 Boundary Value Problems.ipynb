{
 "cells": [
  {
   "cell_type": "code",
   "execution_count": null,
   "id": "b0d6c727",
   "metadata": {},
   "outputs": [],
   "source": [
    "%matplotlib notebook\n",
    "\n",
    "import numpy as np\n",
    "import matplotlib.pyplot as plt\n",
    "import sys  \n",
    "\n",
    "# Import rk4 py file\n",
    "sys.path.insert(0, 'Codes/')\n",
    "import diff_eq as DE\n",
    "\n",
    "# Import secant method py file\n",
    "sys.path.insert(0, 'C:/Users/tonba/Desktop/Masters Stuff/Projects/Numerical-Analysis-From-Scratch-Using-Python/4 Root-Finding Methods/Codes')\n",
    "#from root_finding import *\n",
    "\n",
    "import root_finding as RF"
   ]
  },
  {
   "cell_type": "markdown",
   "id": "a30d8af3",
   "metadata": {},
   "source": [
    "# Boundary Value Problems (BVPs)\n",
    "\n",
    "Suppose we are trying to solve \n",
    "\\\n",
    "\\\n",
    "    $$w'' = f(x, w, w'),\\qquad w(a)=c,\\qquad w(b) = d$$\n",
    "\\\n",
    "\\\n",
    "The function's values at the endpoint, $w(b)$, is called a *Dirichlet boundary condition*. If $w'(b)$ was given, then it is called a *Neumann boundary condition*. We won't be able to blindly use RK4 since it requires an initial condition for the velocity. A familiar problem would the free fall problem (neglecting air resistance):\n",
    "\\\n",
    "\\\n",
    "    $$\\frac{d^2x}{dt^2} = - g$$\n",
    "\\\n",
    "\\\n",
    "We could specify $x=0$ at $t=0$ and also set the position $x = 0$ at $t = t_1$. This is a boundary value problem. We want to find the solution $x(t)$ that satisfies the Dirichlet boundary conditions."
   ]
  },
  {
   "cell_type": "markdown",
   "id": "558a6108",
   "metadata": {},
   "source": [
    "# Shooting Method\n",
    "\n",
    "The simplest way to solve the BVP is to turn it into a initial value problem. We make use of guessing the appropriate value for $w'(a)$ such that it satisfies the boundary conditions. We need to emphasize that guessing $w'(a)$ might not always give the correct answer. We could keep guessing until we obtain a $w'(a)$ that is just right. This sounds like we need a **root-finding problem** such as binary search, bisection method, etc.\n",
    "\n",
    "\n",
    "### Example from https://www.youtube.com/watch?v=qIfxydBEdzg:\n",
    "Suppose we have an ODE\n",
    "\\\n",
    "\\\n",
    "    $$\\frac{d^2 y}{dx^2} = f(x, y, dy/dx)$$\n",
    "\\\n",
    "\\\n",
    "supplied with the boundary conditions $y(x_0) = y_0$ and $y(x_f) = y_f$. As usual we express this 2nd-order ODE as a system of ODEs\n",
    "\\\n",
    "\\\n",
    "    \\begin{equation}\n",
    "        \\frac{dy}{dx} = z, \\qquad \\frac{dz}{dx} = f(x, y, z)\n",
    "    \\end{equation}\n",
    "\\\n",
    "\\\n",
    "We know that $y(x_0) = y_0$ is known but we are not supplied with the initial condition for $z$. We name the unknown initial condition as $z(x_0) = \\xi$. The constraint is that $y(x_f) = y_f$. We define the function\n",
    "\\\n",
    "\\\n",
    "    $$F(\\xi) = y(x_f) - y_f.$$\n",
    "\\\n",
    "\\\n",
    "We need to find $\\xi$ such that $F(\\xi) = 0$. We go back to the free fall problem. We convert it into a system of first-order ODEs\n",
    "\\\n",
    "\\\n",
    "    \\begin{equation}\n",
    "        \\frac{dx}{dt} = v, \\qquad \\frac{dv}{dt} = -g\n",
    "    \\end{equation}\n",
    "\\\n",
    "\\\n",
    "with $x(t_0 = 0) = 0$ and $x(t_f=1) = 2$."
   ]
  },
  {
   "cell_type": "code",
   "execution_count": null,
   "id": "aa93939c",
   "metadata": {},
   "outputs": [],
   "source": [
    "g = 9.8\n",
    "\n",
    "# t boundaries\n",
    "t_0 = 0\n",
    "t_f = 3\n",
    "\n",
    "# Boundary values\n",
    "x_0 = 0\n",
    "x_f = 10\n",
    "\n",
    "def f(r, t):\n",
    "    x = r[0]\n",
    "    v = r[1]\n",
    "    fx = v\n",
    "    fv = -g\n",
    "    \n",
    "    return np.array([fx,fv])\n",
    "\n",
    "\n",
    "def shoot(xi):\n",
    "    # Guess of initial values\n",
    "    r0 = np.array([0, xi]) # x(0) = 0, v(0) = \\xi\n",
    "    \n",
    "    # time-values\n",
    "    t = np.linspace(t_0, t_f, 1000)\n",
    "    \n",
    "    # RK4, solving for x(t) and v(t) given the guesses\n",
    "    xs, vs = DE.rk4(f, r0, t)\n",
    "    \n",
    "    # Define F\n",
    "    F = vs[-1] - x_f # vs[-1] = x(t_f; \\xi)\n",
    "    \n",
    "    return F\n",
    "\n",
    "# We find the initial value of the velocity\n",
    "v_0 = RF.riddlers_method(shoot, 1, 10)\n",
    "v_0"
   ]
  },
  {
   "cell_type": "code",
   "execution_count": null,
   "id": "7168bcaf",
   "metadata": {},
   "outputs": [],
   "source": []
  },
  {
   "cell_type": "markdown",
   "id": "9cbbf91b",
   "metadata": {},
   "source": [
    "# We check"
   ]
  },
  {
   "cell_type": "code",
   "execution_count": null,
   "id": "9170046f",
   "metadata": {},
   "outputs": [],
   "source": [
    "x = lambda t: -0.5*g*t**2 + v_0*t + x_0 # x(t)\n",
    "\n",
    "x(t_f) # wrong!!!!!!"
   ]
  },
  {
   "cell_type": "code",
   "execution_count": null,
   "id": "4895144b",
   "metadata": {},
   "outputs": [],
   "source": []
  },
  {
   "cell_type": "code",
   "execution_count": null,
   "id": "e62b842d",
   "metadata": {},
   "outputs": [],
   "source": []
  },
  {
   "cell_type": "code",
   "execution_count": null,
   "id": "60529fc4",
   "metadata": {},
   "outputs": [],
   "source": []
  },
  {
   "cell_type": "code",
   "execution_count": null,
   "id": "31b663f2",
   "metadata": {},
   "outputs": [],
   "source": []
  },
  {
   "cell_type": "code",
   "execution_count": null,
   "id": "8bf0fd71",
   "metadata": {},
   "outputs": [],
   "source": []
  },
  {
   "cell_type": "code",
   "execution_count": null,
   "id": "bc67dfa7",
   "metadata": {},
   "outputs": [],
   "source": [
    "g = 9.8\n",
    "\n",
    "# t-values\n",
    "t = np.linspace(t_0, t_f, 1000)\n",
    "\n",
    "# Guess of initial values\n",
    "r0 = np.array([x_0, v_0]) # x(0) = 0, v(0) = \\xi\n",
    "\n",
    "def f(r, t):\n",
    "    x = r[0]\n",
    "    v = r[1]\n",
    "    fx = v\n",
    "    fv = -g\n",
    "    \n",
    "    return np.array([fx,fv])\n",
    "\n",
    "# RK4, solving for x(t) and v(t) given the guesses\n",
    "xs, vs = DE.rk4(f, r0, t)\n",
    "\n",
    "\n",
    "plt.figure()\n",
    "\n",
    "plt.plot(t, x(t), '--', lw= 5, label=\"True\")\n",
    "plt.plot(t, xs, '.', label=\"RK4\", markersize=2)\n",
    "plt.xlabel(r'$t$')\n",
    "plt.ylabel(r'$x(t)$')\n",
    "\n",
    "plt.legend()"
   ]
  },
  {
   "cell_type": "code",
   "execution_count": null,
   "id": "eb1f66be",
   "metadata": {},
   "outputs": [],
   "source": []
  },
  {
   "cell_type": "code",
   "execution_count": null,
   "id": "4e607fae",
   "metadata": {},
   "outputs": [],
   "source": []
  },
  {
   "cell_type": "code",
   "execution_count": null,
   "id": "4da56789",
   "metadata": {},
   "outputs": [],
   "source": []
  },
  {
   "cell_type": "code",
   "execution_count": null,
   "id": "67a05f46",
   "metadata": {},
   "outputs": [],
   "source": []
  },
  {
   "cell_type": "code",
   "execution_count": null,
   "id": "59256696",
   "metadata": {},
   "outputs": [],
   "source": []
  },
  {
   "cell_type": "code",
   "execution_count": null,
   "id": "0e225305",
   "metadata": {},
   "outputs": [],
   "source": []
  },
  {
   "cell_type": "code",
   "execution_count": null,
   "id": "662c6c61",
   "metadata": {},
   "outputs": [],
   "source": []
  },
  {
   "cell_type": "code",
   "execution_count": null,
   "id": "ed384f58",
   "metadata": {},
   "outputs": [],
   "source": []
  },
  {
   "cell_type": "code",
   "execution_count": null,
   "id": "39058dc5",
   "metadata": {},
   "outputs": [],
   "source": []
  },
  {
   "cell_type": "code",
   "execution_count": null,
   "id": "4417cd38",
   "metadata": {},
   "outputs": [],
   "source": []
  },
  {
   "cell_type": "code",
   "execution_count": null,
   "id": "c7d6def7",
   "metadata": {},
   "outputs": [],
   "source": []
  },
  {
   "cell_type": "code",
   "execution_count": null,
   "id": "55d6688e",
   "metadata": {},
   "outputs": [],
   "source": []
  },
  {
   "cell_type": "code",
   "execution_count": null,
   "id": "aefe1806",
   "metadata": {},
   "outputs": [],
   "source": []
  },
  {
   "cell_type": "code",
   "execution_count": null,
   "id": "52b18bdf",
   "metadata": {},
   "outputs": [],
   "source": []
  },
  {
   "cell_type": "code",
   "execution_count": null,
   "id": "c2302b7f",
   "metadata": {},
   "outputs": [],
   "source": []
  },
  {
   "cell_type": "code",
   "execution_count": null,
   "id": "7ae02bca",
   "metadata": {},
   "outputs": [],
   "source": []
  },
  {
   "cell_type": "code",
   "execution_count": null,
   "id": "5a8783f9",
   "metadata": {},
   "outputs": [],
   "source": []
  },
  {
   "cell_type": "markdown",
   "id": "362deb57",
   "metadata": {},
   "source": [
    "### Example\n",
    "\n",
    "We want to solve\n",
    "\\\n",
    "\\\n",
    "    \\begin{gather}\n",
    "        w''(x) = - \\frac{30}{1 - x^2} w(x) + \\frac{2x}{1 - x^2} w'(x)\\\\\n",
    "        w(0.05) = 0.0926587109375, \\qquad w(0.49) = 0.1117705085875\n",
    "    \\end{gather}\n",
    "\\\n",
    "\\\n",
    "We convert this into a system of first-order ODEs:\n",
    "    \\begin{gather}\n",
    "        w'(x) = v, \\qquad v'(x) = - \\frac{30}{1 - x^2} w(x) + \\frac{2x}{1 - x^2} v\\\\\n",
    "        w(0.05) = 0.0926587109375, \\qquad v(0.49) = ?\n",
    "    \\end{gather}\n",
    "\\\n",
    "\\"
   ]
  },
  {
   "cell_type": "code",
   "execution_count": null,
   "id": "53d52d8c",
   "metadata": {},
   "outputs": [],
   "source": [
    "def f(r, x):\n",
    "    w = r[0]\n",
    "    v = r[1]\n",
    "    fw = v\n",
    "    fv = - 30 * w / (1 - x**2)  + (2*x*v)/(1-x**2)\n",
    "    \n",
    "    return np.array([fw,fv])\n",
    "\n",
    "def shoot(xi):\n",
    "    # x boundaries\n",
    "    x_0 = 0.05\n",
    "    x_f = 0.49\n",
    "    \n",
    "    # Boundary values\n",
    "    w_0 = 0.0926587109375\n",
    "    w_f = 0.1117705085875\n",
    "    \n",
    "    # Guess of initial values\n",
    "    r0 = np.array([0, xi]) # x(0) = 0, v(0) = \\xi\n",
    "    \n",
    "    # x-values\n",
    "    x = np.linspace(x_0, x_f, 1000)\n",
    "    \n",
    "    # RK4, solving for x(t) and v(t) given the guesses\n",
    "    ws, vs = rk4(f, r0, x)\n",
    "    \n",
    "    # Define F\n",
    "    F = ws[-1] - w_f\n",
    "    \n",
    "    return F\n",
    "\n",
    "\n",
    "# We find the initial value of the velocity\n",
    "secant_method(shoot, 0, 1)"
   ]
  },
  {
   "cell_type": "code",
   "execution_count": null,
   "id": "0083a054",
   "metadata": {},
   "outputs": [],
   "source": []
  },
  {
   "cell_type": "code",
   "execution_count": null,
   "id": "845e4b9d",
   "metadata": {},
   "outputs": [],
   "source": []
  },
  {
   "cell_type": "code",
   "execution_count": null,
   "id": "42cc3fb5",
   "metadata": {},
   "outputs": [],
   "source": []
  },
  {
   "cell_type": "code",
   "execution_count": null,
   "id": "0777d25b",
   "metadata": {},
   "outputs": [],
   "source": []
  },
  {
   "cell_type": "code",
   "execution_count": null,
   "id": "48219c07",
   "metadata": {},
   "outputs": [],
   "source": []
  },
  {
   "cell_type": "code",
   "execution_count": null,
   "id": "5376b171",
   "metadata": {},
   "outputs": [],
   "source": []
  },
  {
   "cell_type": "code",
   "execution_count": null,
   "id": "a863315b",
   "metadata": {},
   "outputs": [],
   "source": []
  },
  {
   "cell_type": "code",
   "execution_count": null,
   "id": "1384d9b2",
   "metadata": {},
   "outputs": [],
   "source": []
  },
  {
   "cell_type": "markdown",
   "id": "e1db5f20",
   "metadata": {},
   "source": [
    "### Example: Cannon problem"
   ]
  },
  {
   "cell_type": "code",
   "execution_count": null,
   "id": "0fb03728",
   "metadata": {},
   "outputs": [],
   "source": []
  },
  {
   "cell_type": "code",
   "execution_count": null,
   "id": "3ec1d84d",
   "metadata": {},
   "outputs": [],
   "source": []
  },
  {
   "cell_type": "code",
   "execution_count": null,
   "id": "36f7d98d",
   "metadata": {},
   "outputs": [],
   "source": []
  },
  {
   "cell_type": "code",
   "execution_count": null,
   "id": "d4496fee",
   "metadata": {},
   "outputs": [],
   "source": []
  },
  {
   "cell_type": "code",
   "execution_count": null,
   "id": "711a0fbe",
   "metadata": {},
   "outputs": [],
   "source": []
  },
  {
   "cell_type": "markdown",
   "id": "07186c74",
   "metadata": {},
   "source": [
    "# Relaxation Method"
   ]
  },
  {
   "cell_type": "code",
   "execution_count": null,
   "id": "c91e4f3e",
   "metadata": {},
   "outputs": [],
   "source": []
  },
  {
   "cell_type": "code",
   "execution_count": null,
   "id": "045c7047",
   "metadata": {},
   "outputs": [],
   "source": []
  },
  {
   "cell_type": "markdown",
   "id": "5e2423bc",
   "metadata": {},
   "source": [
    "# Matrix Method"
   ]
  },
  {
   "cell_type": "code",
   "execution_count": null,
   "id": "cec5b82b",
   "metadata": {},
   "outputs": [],
   "source": [
    "?rk4"
   ]
  },
  {
   "cell_type": "code",
   "execution_count": null,
   "id": "b547d410",
   "metadata": {},
   "outputs": [],
   "source": []
  },
  {
   "cell_type": "code",
   "execution_count": null,
   "id": "a9df0478",
   "metadata": {},
   "outputs": [],
   "source": []
  },
  {
   "cell_type": "code",
   "execution_count": null,
   "id": "ae051174",
   "metadata": {},
   "outputs": [],
   "source": []
  },
  {
   "cell_type": "code",
   "execution_count": null,
   "id": "ed7f0d07",
   "metadata": {},
   "outputs": [],
   "source": []
  }
 ],
 "metadata": {
  "kernelspec": {
   "display_name": "Python 3",
   "language": "python",
   "name": "python3"
  },
  "language_info": {
   "codemirror_mode": {
    "name": "ipython",
    "version": 3
   },
   "file_extension": ".py",
   "mimetype": "text/x-python",
   "name": "python",
   "nbconvert_exporter": "python",
   "pygments_lexer": "ipython3",
   "version": "3.8.11"
  }
 },
 "nbformat": 4,
 "nbformat_minor": 5
}
