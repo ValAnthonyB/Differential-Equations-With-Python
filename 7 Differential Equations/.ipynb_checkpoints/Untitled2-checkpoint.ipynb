{
 "cells": [
  {
   "cell_type": "code",
   "execution_count": 26,
   "id": "25a80383",
   "metadata": {},
   "outputs": [],
   "source": [
    "%matplotlib notebook\n",
    "\n",
    "import numpy as np\n",
    "import matplotlib.pyplot as plt\n",
    "\n",
    "# Import rk4 py file\n",
    "import sys \n",
    "sys.path.insert(0, 'Codes/')\n",
    "import diff_eq as DE\n",
    "\n",
    "\n",
    "# Import secant method py file\n",
    "sys.path.insert(0, 'C:/Users/tonba/Desktop/Masters Stuff/Projects/Numerical-Analysis-From-Scratch-Using-Python/4 Root-Finding Methods/Codes')\n",
    "import root_finding as RF"
   ]
  },
  {
   "cell_type": "code",
   "execution_count": null,
   "id": "ee3b026b",
   "metadata": {},
   "outputs": [],
   "source": []
  },
  {
   "cell_type": "markdown",
   "id": "d5cf59eb",
   "metadata": {},
   "source": [
    "# Newman"
   ]
  },
  {
   "cell_type": "code",
   "execution_count": 32,
   "id": "d9f8af59",
   "metadata": {},
   "outputs": [],
   "source": [
    "g = 9.81\n",
    "\n",
    "# Initial condition\n",
    "t_0 = 0\n",
    "x_0 = 0\n",
    "\n",
    "# Boundary condition\n",
    "t_f = 10\n",
    "x_f = 0\n",
    "\n",
    "N = 10000\n",
    "h = (t_f - t_0)/N\n",
    "target = 1e-10\n",
    "\n",
    "def f(r,t):\n",
    "    x = r[0]\n",
    "    y = r[1]\n",
    "    \n",
    "    fx = y\n",
    "    fy = -g\n",
    "    \n",
    "    return np.array([fx, fy])\n",
    "\n",
    "def final_height(v):\n",
    "    r0 = np.array([0, v]) # initial condition\n",
    "    t = np.linspace(t_0, t_f, N)\n",
    "    \n",
    "    # RK4\n",
    "    return DE.rk4(f, r0, t)[0][-1]"
   ]
  },
  {
   "cell_type": "code",
   "execution_count": 33,
   "id": "3e14483a",
   "metadata": {},
   "outputs": [
    {
     "name": "stdout",
     "output_type": "stream",
     "text": [
      "Solution found after 45 iterations.\n"
     ]
    },
    {
     "data": {
      "text/plain": [
       "49.04509500000539"
      ]
     },
     "execution_count": 33,
     "metadata": {},
     "output_type": "execute_result"
    }
   ],
   "source": [
    "v1 = 0.001\n",
    "v2 = 1000\n",
    "\n",
    "# Estimates the initial condition for the velocity\n",
    "v0 = RF.riddlers_method(final_height, v1, v2)\n",
    "v0"
   ]
  },
  {
   "cell_type": "code",
   "execution_count": 34,
   "id": "059de712",
   "metadata": {},
   "outputs": [
    {
     "data": {
      "text/plain": [
       "-0.04904999994607806"
      ]
     },
     "execution_count": 34,
     "metadata": {},
     "output_type": "execute_result"
    }
   ],
   "source": [
    "x = lambda t: -0.5*g*t**2 + v0*t + x_0 # x(t)\n",
    "\n",
    "x(10) # wrong!!!!!!"
   ]
  },
  {
   "cell_type": "code",
   "execution_count": null,
   "id": "6583bce5",
   "metadata": {},
   "outputs": [],
   "source": []
  },
  {
   "cell_type": "code",
   "execution_count": null,
   "id": "a2c1727d",
   "metadata": {},
   "outputs": [],
   "source": []
  },
  {
   "cell_type": "markdown",
   "id": "adf5b181",
   "metadata": {},
   "source": [
    "The free fall problem has the ODE\n",
    "\\\n",
    "\\\n",
    "    $$\\frac{d^2 y}{dx^2} = f(x, y, dy/dx)$$\n",
    "\\\n",
    "\\\n",
    "We convert it into a system of first-order ODEs:\n",
    "\\\n",
    "\\\n",
    "    \\begin{equation}\n",
    "        \\frac{dx}{dt} = v, \\qquad \\frac{dv}{dt} = -g\n",
    "    \\end{equation}\n",
    "\\\n",
    "\\\n",
    "with $x(t_0 = 0) = 0$ and $x(t_f=10) = 0$."
   ]
  },
  {
   "cell_type": "code",
   "execution_count": null,
   "id": "d1360852",
   "metadata": {},
   "outputs": [],
   "source": [
    "g = 9.81\n",
    "\n",
    "# Initial condition\n",
    "t_0 = 0\n",
    "x_0 = 0\n",
    "\n",
    "# Boundary condition\n",
    "t_f = 10\n",
    "x_f = 0\n",
    "\n",
    "N = 1000\n",
    "\n",
    "\n",
    "def f(r, t):\n",
    "    x = r[0]\n",
    "    y = r[1]\n",
    "    \n",
    "    fx = y\n",
    "    fy = -g\n",
    "    \n",
    "    return np.array([fx, fy])\n",
    "\n",
    "\n",
    "def shoot(v_guess):\n",
    "    r_0 = np.array([x_0, v_guess])\n",
    "    t = np.linspace(t_0, t_f, N)\n",
    "    \n",
    "    xs, vs = DE.rk4(f, r0, t)\n",
    "    F = \n",
    "    return F"
   ]
  },
  {
   "cell_type": "code",
   "execution_count": null,
   "id": "a90ad24a",
   "metadata": {},
   "outputs": [],
   "source": []
  },
  {
   "cell_type": "code",
   "execution_count": null,
   "id": "be7d1085",
   "metadata": {},
   "outputs": [],
   "source": []
  }
 ],
 "metadata": {
  "kernelspec": {
   "display_name": "Python 3",
   "language": "python",
   "name": "python3"
  },
  "language_info": {
   "codemirror_mode": {
    "name": "ipython",
    "version": 3
   },
   "file_extension": ".py",
   "mimetype": "text/x-python",
   "name": "python",
   "nbconvert_exporter": "python",
   "pygments_lexer": "ipython3",
   "version": "3.8.11"
  }
 },
 "nbformat": 4,
 "nbformat_minor": 5
}
