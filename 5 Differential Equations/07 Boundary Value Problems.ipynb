{
 "cells": [
  {
   "cell_type": "code",
   "execution_count": 1,
   "id": "b0d6c727",
   "metadata": {},
   "outputs": [],
   "source": [
    "import numpy as np\n",
    "import matplotlib.pyplot as plt"
   ]
  },
  {
   "cell_type": "code",
   "execution_count": null,
   "id": "aa6e3917",
   "metadata": {},
   "outputs": [],
   "source": [
    "def rk4_simultaneous(f, r0, t):\n",
    "    # n is the number of equations\n",
    "    n = len(r0)\n",
    "    \n",
    "    # N is the number of grid points\n",
    "    N = len(t)\n",
    "    \n",
    "    # Step size\n",
    "    h = (t[-1] - t[0]) / N\n",
    "    \n",
    "    # Setup r. Each row takes the form (xi, yi), etc\n",
    "    r = np.zeros((len(t) ,len(r0)))\n",
    "    r[0] = r0 # Change zeroth row to initial condition\n",
    "        \n",
    "    # RK4 algorithm\n",
    "    for i in range(0, N-1):\n",
    "        k1 = h * f(r[i],  t[i])\n",
    "        k2 = h * f(r[i] + 0.5*k1, t[i] + 0.5*h)\n",
    "        k3 = h * f(r[i] + 0.5*k2, t[i] + 0.5*h)\n",
    "        k4 = h * f(r[i] + k3, t[i] + h)\n",
    "        r[i+1] = r[i] + (k1 + 2*k2 + 2*k3 + k4)/6\n",
    "        \n",
    "    return r.T"
   ]
  },
  {
   "cell_type": "markdown",
   "id": "a30d8af3",
   "metadata": {},
   "source": [
    "# Boundary Value Problems (BVPs)\n",
    "\n",
    "Suppose we are trying to solve \n",
    "\\\n",
    "\\\n",
    "    $$w'' = f(x, w, w'),\\qquad w(a)=c,\\qquad w(b) = d$$\n",
    "\\\n",
    "\\\n",
    "The function's values at the endpoint, $w(b)$, is called a *Dirichlet boundary condition*. If $w'(b)$ was given, then it is called a *Neumann boundary condition*. We won't be able to blindly use RK4 since it requires an initial condition for the velocity. A familiar problem would the free fall problem (neglecting air resistance):\n",
    "\\\n",
    "\\\n",
    "    $$\\frac{d^2x}{dt^2} = - g$$\n",
    "\\\n",
    "\\\n",
    "We could specify $x=0$ at $t=0$ and also set the position $x = 0$ at $t = t_1$. This is a boundary value problem. We want to find the solution $x(t)$ that satisfies the Dirichlet boundary conditions."
   ]
  },
  {
   "cell_type": "markdown",
   "id": "558a6108",
   "metadata": {},
   "source": [
    "# Shooting Method\n",
    "\n",
    "The simplest way to solve the BVP is to turn it into a initial value problem. We make use of guessing the appropriate value for $w'(a)$ such that it satisfies the boundary conditions. We need to emphasize that guessing $w'(a)$ might not always give the correct answer. We could keep guessing until we obtain a $w'(a)$ that is just right. This sounds like we need a **root-finding problem** such as binary search, bisection method, etc.\n",
    "\n",
    "\n",
    "### Setup:\n",
    "The input to this method is $w(a) = c$ and $w(b) = d$. We then discretize the "
   ]
  },
  {
   "cell_type": "code",
   "execution_count": 2,
   "id": "f443f976",
   "metadata": {},
   "outputs": [
    {
     "name": "stdout",
     "output_type": "stream",
     "text": [
      "else\n",
      "else\n",
      "else\n",
      "else\n",
      "if\n",
      "if\n",
      "else\n",
      "else\n",
      "if\n",
      "else\n",
      "else\n",
      "else\n",
      "if\n",
      "if\n",
      "else\n",
      "if\n",
      "if\n",
      "if\n",
      "if\n",
      "else\n",
      "if\n",
      "else\n",
      "if\n",
      "else\n",
      "if\n",
      "if\n",
      "if\n",
      "else\n",
      "else\n",
      "if\n",
      "if\n",
      "else\n",
      "else\n",
      "if\n",
      "if\n",
      "if\n",
      "if\n",
      "else\n",
      "else\n",
      "else\n",
      "else\n",
      "else\n",
      "else\n",
      "else\n",
      "else\n",
      "if\n",
      "if\n",
      "The required initial velocity is  49.04999999999815 m/s\n"
     ]
    }
   ],
   "source": [
    "g = 9.81\n",
    "a = 0\n",
    "b = 10\n",
    "N = 1000\n",
    "h = (b-a)/N\n",
    "target = 1e-10\n",
    "\n",
    "def f(r):\n",
    "    x = r[0]\n",
    "    y = r[1]\n",
    "    \n",
    "    fx = y\n",
    "    fy = -g\n",
    "    \n",
    "    return np.array([fx, fy])\n",
    "\n",
    "def height(v):\n",
    "    r = np.array([0, v], float)\n",
    "    \n",
    "    # Runge-Kutta\n",
    "    for t in np.linspace(a,b,N):\n",
    "        k1 = h*f(r)\n",
    "        k2 = h*f(r + 0.5*k1)\n",
    "        k3 = h*f(r + 0.5*k2)\n",
    "        k4 = h*f(r + k3)\n",
    "        r += (k1 + 2*k2 + 2*k3 + k4) / 6\n",
    "        \n",
    "    return r[0]\n",
    "\n",
    "\n",
    "v1 = 0.01\n",
    "v2 = 1000\n",
    "h1 = height(v1)\n",
    "h2 = height(v2)\n",
    "\n",
    "# Binary search\n",
    "while np.abs(h2 - h1) > target:\n",
    "    vp = (v1 + v2) / 2\n",
    "    hp = height(vp)\n",
    "    \n",
    "    if h1*hp > 0:\n",
    "        v1 = vp\n",
    "        h1 = hp\n",
    "        print('if')\n",
    "        \n",
    "    else:\n",
    "        v2 = vp\n",
    "        h2 = hp\n",
    "        print('else')\n",
    "        \n",
    "v = (v1 + v2) / 2\n",
    "print(\"The required initial velocity is \", v, \"m/s\")"
   ]
  },
  {
   "cell_type": "code",
   "execution_count": null,
   "id": "045c7047",
   "metadata": {},
   "outputs": [],
   "source": []
  },
  {
   "cell_type": "markdown",
   "id": "5e2423bc",
   "metadata": {},
   "source": [
    "# Matrix Method"
   ]
  },
  {
   "cell_type": "code",
   "execution_count": null,
   "id": "cec5b82b",
   "metadata": {},
   "outputs": [],
   "source": []
  },
  {
   "cell_type": "code",
   "execution_count": null,
   "id": "b547d410",
   "metadata": {},
   "outputs": [],
   "source": []
  },
  {
   "cell_type": "code",
   "execution_count": null,
   "id": "a9df0478",
   "metadata": {},
   "outputs": [],
   "source": []
  },
  {
   "cell_type": "code",
   "execution_count": null,
   "id": "ae051174",
   "metadata": {},
   "outputs": [],
   "source": []
  },
  {
   "cell_type": "code",
   "execution_count": null,
   "id": "ed7f0d07",
   "metadata": {},
   "outputs": [],
   "source": []
  }
 ],
 "metadata": {
  "kernelspec": {
   "display_name": "Python 3",
   "language": "python",
   "name": "python3"
  },
  "language_info": {
   "codemirror_mode": {
    "name": "ipython",
    "version": 3
   },
   "file_extension": ".py",
   "mimetype": "text/x-python",
   "name": "python",
   "nbconvert_exporter": "python",
   "pygments_lexer": "ipython3",
   "version": "3.8.11"
  }
 },
 "nbformat": 4,
 "nbformat_minor": 5
}
